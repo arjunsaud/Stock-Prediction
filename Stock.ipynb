{
 "cells": [
  {
   "cell_type": "code",
   "execution_count": 100,
   "metadata": {},
   "outputs": [],
   "source": [
    "import math\n",
    "import pandas_datareader as web\n",
    "import numpy as np\n",
    "import pandas as pd\n",
    "from sklearn.preprocessing import MinMaxScaler\n",
    "from keras.models import Sequential\n",
    "from keras.layers import Dense, LSTM\n",
    "import matplotlib.pyplot as plt\n",
    "plt.style.use('fivethirtyeight')\n"
   ]
  },
  {
   "cell_type": "code",
   "execution_count": 101,
   "metadata": {},
   "outputs": [
    {
     "data": {
      "text/plain": [
       "<bound method NDFrame.head of             Date  Total Transactions  Total Traded Shares  \\\n",
       "0     2014-05-11                  40                 2232   \n",
       "1     2014-05-12                  41                 6393   \n",
       "2     2014-05-13                  26                 3367   \n",
       "3     2014-05-15                  19                 1498   \n",
       "4     2014-05-18                  29                 2406   \n",
       "...          ...                 ...                  ...   \n",
       "1232  2019-09-01                  76                17893   \n",
       "1233  2019-09-02                 164                43531   \n",
       "1234  2019-09-03                 113                36698   \n",
       "1235  2019-09-04                 102                22525   \n",
       "1236  2019-09-05                  71                15371   \n",
       "\n",
       "      Total Traded Amount  Max. Price  Min. Price  Close Price  \n",
       "0                 1005475       462.0         446        451.0  \n",
       "1                 2858303       453.0         442        447.0  \n",
       "2                 1527250       460.0         440        452.0  \n",
       "3                  672591       453.0         446        450.0  \n",
       "4                 1062455       449.0         433        438.0  \n",
       "...                   ...         ...         ...          ...  \n",
       "1232              7593805       428.0         421        421.0  \n",
       "1233             18214197       424.0         414        417.0  \n",
       "1234             15343752       426.0         412        424.0  \n",
       "1235              9586617       429.0         420        426.0  \n",
       "1236              6543883       427.0         425        425.0  \n",
       "\n",
       "[1237 rows x 7 columns]>"
      ]
     },
     "execution_count": 101,
     "metadata": {},
     "output_type": "execute_result"
    }
   ],
   "source": [
    "df = pd.read_csv('ADBL.csv')\n",
    "df.head"
   ]
  },
  {
   "cell_type": "code",
   "execution_count": 102,
   "metadata": {},
   "outputs": [
    {
     "data": {
      "text/plain": [
       "(1237, 7)"
      ]
     },
     "execution_count": 102,
     "metadata": {},
     "output_type": "execute_result"
    }
   ],
   "source": [
    "df.shape"
   ]
  },
  {
   "cell_type": "code",
   "execution_count": null,
   "metadata": {},
   "outputs": [],
   "source": [
    "plt.figure(figsize=(24,8))\n",
    "plt.title('Close Price History')\n",
    "plt.plot(df['Close Price'])\n",
    "plt.xlabel('Date', fontsize=18)\n",
    "plt.ylabel('Close Price', fontsize=18)\n",
    "plt.show()"
   ]
  },
  {
   "cell_type": "code",
   "execution_count": 104,
   "metadata": {},
   "outputs": [
    {
     "data": {
      "text/plain": [
       "(1237, 7)"
      ]
     },
     "execution_count": 104,
     "metadata": {},
     "output_type": "execute_result"
    }
   ],
   "source": [
    "df.shape"
   ]
  },
  {
   "cell_type": "code",
   "execution_count": 105,
   "metadata": {},
   "outputs": [
    {
     "data": {
      "text/plain": [
       "990"
      ]
     },
     "execution_count": 105,
     "metadata": {},
     "output_type": "execute_result"
    }
   ],
   "source": [
    "data = df.filter(['Close Price'])\n",
    "#Convert the dataframe to a numpy array\n",
    "dataset = data.values\n",
    "#Get the number of rows to train the model on\n",
    "training_data_len = math.ceil( len(dataset) * .8 )\n",
    "\n",
    "training_data_len"
   ]
  },
  {
   "cell_type": "code",
   "execution_count": 106,
   "metadata": {},
   "outputs": [
    {
     "data": {
      "text/plain": [
       "array([[0.4168207 ],\n",
       "       [0.41312384],\n",
       "       [0.41774492],\n",
       "       ...,\n",
       "       [0.39186691],\n",
       "       [0.39371534],\n",
       "       [0.39279113]])"
      ]
     },
     "execution_count": 106,
     "metadata": {},
     "output_type": "execute_result"
    }
   ],
   "source": [
    "#Scale the data\n",
    "scaler = MinMaxScaler(feature_range=(0,1))\n",
    "scaled_data = scaler.fit_transform(dataset)\n",
    "\n",
    "scaled_data"
   ]
  },
  {
   "cell_type": "code",
   "execution_count": 107,
   "metadata": {},
   "outputs": [
    {
     "name": "stdout",
     "output_type": "stream",
     "text": [
      "[array([0.4168207 , 0.41312384, 0.41774492, 0.41589649, 0.40480591,\n",
      "       0.40757856, 0.40665434, 0.40573013, 0.40757856, 0.40665434,\n",
      "       0.40573013, 0.40850277, 0.42051756, 0.41497227, 0.42513863,\n",
      "       0.4297597 , 0.41589649, 0.4168207 , 0.41127542, 0.40850277,\n",
      "       0.4168207 , 0.42421442, 0.42144177, 0.46025878, 0.46580407,\n",
      "       0.        , 0.46580407, 0.45933457, 0.45471349, 0.44916821,\n",
      "       0.45286506, 0.45286506, 0.49445471, 0.49445471, 0.48983364,\n",
      "       0.48613678, 0.49907579, 0.50831793, 0.52772643, 0.58040665,\n",
      "       0.60998152, 0.62569316, 0.64510166, 0.63770795, 0.63770795,\n",
      "       0.6987061 , 0.67375231, 0.67097967, 0.68391867, 0.66081331,\n",
      "       0.65619224, 0.64972274, 0.64602588, 0.64232902, 0.6284658 ,\n",
      "       0.62014787, 0.6090573 , 0.60073937, 0.60720887, 0.60073937])]\n",
      "[0.6053604436229205]\n",
      "\n",
      "[array([0.4168207 , 0.41312384, 0.41774492, 0.41589649, 0.40480591,\n",
      "       0.40757856, 0.40665434, 0.40573013, 0.40757856, 0.40665434,\n",
      "       0.40573013, 0.40850277, 0.42051756, 0.41497227, 0.42513863,\n",
      "       0.4297597 , 0.41589649, 0.4168207 , 0.41127542, 0.40850277,\n",
      "       0.4168207 , 0.42421442, 0.42144177, 0.46025878, 0.46580407,\n",
      "       0.        , 0.46580407, 0.45933457, 0.45471349, 0.44916821,\n",
      "       0.45286506, 0.45286506, 0.49445471, 0.49445471, 0.48983364,\n",
      "       0.48613678, 0.49907579, 0.50831793, 0.52772643, 0.58040665,\n",
      "       0.60998152, 0.62569316, 0.64510166, 0.63770795, 0.63770795,\n",
      "       0.6987061 , 0.67375231, 0.67097967, 0.68391867, 0.66081331,\n",
      "       0.65619224, 0.64972274, 0.64602588, 0.64232902, 0.6284658 ,\n",
      "       0.62014787, 0.6090573 , 0.60073937, 0.60720887, 0.60073937]), array([0.41312384, 0.41774492, 0.41589649, 0.40480591, 0.40757856,\n",
      "       0.40665434, 0.40573013, 0.40757856, 0.40665434, 0.40573013,\n",
      "       0.40850277, 0.42051756, 0.41497227, 0.42513863, 0.4297597 ,\n",
      "       0.41589649, 0.4168207 , 0.41127542, 0.40850277, 0.4168207 ,\n",
      "       0.42421442, 0.42144177, 0.46025878, 0.46580407, 0.        ,\n",
      "       0.46580407, 0.45933457, 0.45471349, 0.44916821, 0.45286506,\n",
      "       0.45286506, 0.49445471, 0.49445471, 0.48983364, 0.48613678,\n",
      "       0.49907579, 0.50831793, 0.52772643, 0.58040665, 0.60998152,\n",
      "       0.62569316, 0.64510166, 0.63770795, 0.63770795, 0.6987061 ,\n",
      "       0.67375231, 0.67097967, 0.68391867, 0.66081331, 0.65619224,\n",
      "       0.64972274, 0.64602588, 0.64232902, 0.6284658 , 0.62014787,\n",
      "       0.6090573 , 0.60073937, 0.60720887, 0.60073937, 0.60536044])]\n",
      "[0.6053604436229205, 0.5961182994454713]\n",
      "\n"
     ]
    }
   ],
   "source": [
    "#Create the training data set\n",
    "#Create the scaled training data set\n",
    "train_data = scaled_data[0:training_data_len , :]\n",
    "#Split the data into x_train and y_train data sets\n",
    "x_train = []\n",
    "y_train = []\n",
    "\n",
    "for i in range(60, len(train_data)):\n",
    "  x_train.append(train_data[i-60:i, 0])\n",
    "  y_train.append(train_data[i, 0])\n",
    "  if i<= 61:\n",
    "    print(x_train)\n",
    "    print(y_train)\n",
    "    print()"
   ]
  },
  {
   "cell_type": "code",
   "execution_count": 108,
   "metadata": {},
   "outputs": [],
   "source": [
    "#Convert the x_train and y_train to numpy arrays \n",
    "x_train, y_train = np.array(x_train), np.array(y_train)"
   ]
  },
  {
   "cell_type": "code",
   "execution_count": 109,
   "metadata": {},
   "outputs": [
    {
     "data": {
      "text/plain": [
       "(930, 60, 1)"
      ]
     },
     "execution_count": 109,
     "metadata": {},
     "output_type": "execute_result"
    }
   ],
   "source": [
    "#Reshape the data\n",
    "x_train = np.reshape(x_train, (x_train.shape[0], x_train.shape[1], 1))\n",
    "x_train.shape\n"
   ]
  },
  {
   "cell_type": "code",
   "execution_count": 110,
   "metadata": {},
   "outputs": [],
   "source": [
    "#Build the LSTM model\n",
    "model = Sequential()\n",
    "model.add(LSTM(50, return_sequences=True, input_shape= (x_train.shape[1], 1)))\n",
    "model.add(LSTM(50, return_sequences= False))\n",
    "model.add(Dense(25))\n",
    "model.add(Dense(1))"
   ]
  },
  {
   "cell_type": "code",
   "execution_count": 111,
   "metadata": {},
   "outputs": [],
   "source": [
    "#Compile the model\n",
    "model.compile(optimizer='adam', loss='mean_squared_error')"
   ]
  },
  {
   "cell_type": "code",
   "execution_count": 112,
   "metadata": {},
   "outputs": [
    {
     "name": "stdout",
     "output_type": "stream",
     "text": [
      "Epoch 1/1\n",
      "930/930 [==============================] - 55s 59ms/step - loss: 0.0036\n"
     ]
    },
    {
     "data": {
      "text/plain": [
       "<keras.callbacks.callbacks.History at 0x1f370831b88>"
      ]
     },
     "execution_count": 112,
     "metadata": {},
     "output_type": "execute_result"
    }
   ],
   "source": [
    "model.fit(x_train, y_train, batch_size=1, epochs=1)"
   ]
  },
  {
   "cell_type": "code",
   "execution_count": 113,
   "metadata": {},
   "outputs": [],
   "source": [
    "#Create the testing data set\n",
    "#Create a new array containing scaled values from index 1543 to 2002 \n",
    "test_data = scaled_data[training_data_len - 60: , :]\n",
    "#Create the data sets x_test and y_test\n",
    "x_test = []\n",
    "y_test = dataset[training_data_len:, :]\n",
    "for i in range(60, len(test_data)):\n",
    "  x_test.append(test_data[i-60:i, 0])"
   ]
  },
  {
   "cell_type": "code",
   "execution_count": 114,
   "metadata": {},
   "outputs": [],
   "source": [
    "x_test = np.array(x_test)\n"
   ]
  },
  {
   "cell_type": "code",
   "execution_count": 115,
   "metadata": {},
   "outputs": [],
   "source": [
    "x_test = np.reshape(x_test, (x_test.shape[0], x_test.shape[1], 1 ))\n"
   ]
  },
  {
   "cell_type": "code",
   "execution_count": 116,
   "metadata": {},
   "outputs": [],
   "source": [
    "#Get the models predicted price values \n",
    "predictions = model.predict(x_test)\n",
    "predictions = scaler.inverse_transform(predictions)\n"
   ]
  },
  {
   "cell_type": "code",
   "execution_count": 117,
   "metadata": {},
   "outputs": [
    {
     "data": {
      "text/plain": [
       "18.108878366570725"
      ]
     },
     "execution_count": 117,
     "metadata": {},
     "output_type": "execute_result"
    }
   ],
   "source": [
    "#Get the root mean squared error (RMSE)\n",
    "rmse = np.sqrt( np.mean( predictions - y_test )**2 )\n",
    "rmse"
   ]
  },
  {
   "cell_type": "code",
   "execution_count": 118,
   "metadata": {},
   "outputs": [
    {
     "name": "stderr",
     "output_type": "stream",
     "text": [
      "C:\\Users\\dell\\Anaconda3\\lib\\site-packages\\ipykernel_launcher.py:4: SettingWithCopyWarning: \n",
      "A value is trying to be set on a copy of a slice from a DataFrame.\n",
      "Try using .loc[row_indexer,col_indexer] = value instead\n",
      "\n",
      "See the caveats in the documentation: http://pandas.pydata.org/pandas-docs/stable/user_guide/indexing.html#returning-a-view-versus-a-copy\n",
      "  after removing the cwd from sys.path.\n"
     ]
    },
    {
     "data": {
      "image/png": "[encoded data removed]",
      "text/plain": [
       "<Figure size 1152x576 with 1 Axes>"
      ]
     },
     "metadata": {},
     "output_type": "display_data"
    }
   ],
   "source": [
    "#Plot the data\n",
    "train = data[:training_data_len]\n",
    "valid = data[training_data_len:]\n",
    "valid['Predictions'] = predictions\n",
    "#Visualize the data\n",
    "plt.figure(figsize=(16,8))\n",
    "plt.title('Model')\n",
    "plt.xlabel('Date', fontsize=18)\n",
    "plt.ylabel('Close Price', fontsize=18)\n",
    "plt.plot(train['Close Price'])\n",
    "plt.plot(valid[['Close Price', 'Predictions']])\n",
    "plt.legend(['Train', 'Val', 'Predictions'], loc='lower right')\n",
    "plt.show()"
   ]
  },
  {
   "cell_type": "code",
   "execution_count": 119,
   "metadata": {},
   "outputs": [
    {
     "data": {
      "text/html": [
       "<div>\n",
       "<style scoped>\n",
       "    .dataframe tbody tr th:only-of-type {\n",
       "        vertical-align: middle;\n",
       "    }\n",
       "\n",
       "    .dataframe tbody tr th {\n",
       "        vertical-align: top;\n",
       "    }\n",
       "\n",
       "    .dataframe thead th {\n",
       "        text-align: right;\n",
       "    }\n",
       "</style>\n",
       "<table border=\"1\" class=\"dataframe\">\n",
       "  <thead>\n",
       "    <tr style=\"text-align: right;\">\n",
       "      <th></th>\n",
       "      <th>Close Price</th>\n",
       "      <th>Predictions</th>\n",
       "    </tr>\n",
       "  </thead>\n",
       "  <tbody>\n",
       "    <tr>\n",
       "      <td>990</td>\n",
       "      <td>352.0</td>\n",
       "      <td>323.657288</td>\n",
       "    </tr>\n",
       "    <tr>\n",
       "      <td>991</td>\n",
       "      <td>346.0</td>\n",
       "      <td>326.080902</td>\n",
       "    </tr>\n",
       "    <tr>\n",
       "      <td>992</td>\n",
       "      <td>342.0</td>\n",
       "      <td>327.804016</td>\n",
       "    </tr>\n",
       "    <tr>\n",
       "      <td>993</td>\n",
       "      <td>345.0</td>\n",
       "      <td>328.619812</td>\n",
       "    </tr>\n",
       "    <tr>\n",
       "      <td>994</td>\n",
       "      <td>352.0</td>\n",
       "      <td>329.112610</td>\n",
       "    </tr>\n",
       "    <tr>\n",
       "      <td>...</td>\n",
       "      <td>...</td>\n",
       "      <td>...</td>\n",
       "    </tr>\n",
       "    <tr>\n",
       "      <td>1232</td>\n",
       "      <td>421.0</td>\n",
       "      <td>408.374084</td>\n",
       "    </tr>\n",
       "    <tr>\n",
       "      <td>1233</td>\n",
       "      <td>417.0</td>\n",
       "      <td>407.609528</td>\n",
       "    </tr>\n",
       "    <tr>\n",
       "      <td>1234</td>\n",
       "      <td>424.0</td>\n",
       "      <td>406.365234</td>\n",
       "    </tr>\n",
       "    <tr>\n",
       "      <td>1235</td>\n",
       "      <td>426.0</td>\n",
       "      <td>405.608307</td>\n",
       "    </tr>\n",
       "    <tr>\n",
       "      <td>1236</td>\n",
       "      <td>425.0</td>\n",
       "      <td>405.366730</td>\n",
       "    </tr>\n",
       "  </tbody>\n",
       "</table>\n",
       "<p>247 rows × 2 columns</p>\n",
       "</div>"
      ],
      "text/plain": [
       "      Close Price  Predictions\n",
       "990         352.0   323.657288\n",
       "991         346.0   326.080902\n",
       "992         342.0   327.804016\n",
       "993         345.0   328.619812\n",
       "994         352.0   329.112610\n",
       "...           ...          ...\n",
       "1232        421.0   408.374084\n",
       "1233        417.0   407.609528\n",
       "1234        424.0   406.365234\n",
       "1235        426.0   405.608307\n",
       "1236        425.0   405.366730\n",
       "\n",
       "[247 rows x 2 columns]"
      ]
     },
     "execution_count": 119,
     "metadata": {},
     "output_type": "execute_result"
    }
   ],
   "source": [
    "valid"
   ]
  },
  {
   "cell_type": "code",
   "execution_count": 120,
   "metadata": {},
   "outputs": [
    {
     "name": "stdout",
     "output_type": "stream",
     "text": [
      "[[405.34702]]\n"
     ]
    }
   ],
   "source": [
    "#Create a new dataframe\n",
    "apple_quote= pd.read_csv('ADBL.csv')\n",
    "\n",
    "new_df = apple_quote.filter(['Close Price'])\n",
    "#Get teh last 60 day closing price values and convert the dataframe to an array\n",
    "last_60_days = new_df[-60:].values\n",
    "#Scale the data to be values between 0 and 1\n",
    "last_60_days_scaled = scaler.transform(last_60_days)\n",
    "#Create an empty list\n",
    "X_test = []\n",
    "#Append teh past 60 days\n",
    "X_test.append(last_60_days_scaled)\n",
    "#Convert the X_test data set to a numpy array\n",
    "X_test = np.array(X_test)\n",
    "#Reshape the data\n",
    "X_test = np.reshape(X_test, (X_test.shape[0], X_test.shape[1], 1))\n",
    "#Get the predicted scaled price\n",
    "pred_price = model.predict(X_test)\n",
    "#undo the scaling \n",
    "pred_price = scaler.inverse_transform(pred_price)\n",
    "print(pred_price)"
   ]
  }
 ],
 "metadata": {
  "kernelspec": {
   "display_name": "Python 3",
   "language": "python",
   "name": "python3"
  },
  "language_info": {
   "codemirror_mode": {
    "name": "ipython",
    "version": 3
   },
   "file_extension": ".py",
   "mimetype": "text/x-python",
   "name": "python",
   "nbconvert_exporter": "python",
   "pygments_lexer": "ipython3",
   "version": "3.7.4"
  }
 },
 "nbformat": 4,
 "nbformat_minor": 4
}
